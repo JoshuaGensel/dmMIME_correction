{
 "cells": [
  {
   "cell_type": "code",
   "execution_count": 214,
   "metadata": {},
   "outputs": [],
   "source": [
    "import numpy as np\n",
    "import sympy as sym\n",
    "import scipy as sp\n",
    "import matplotlib.pyplot as plt"
   ]
  },
  {
   "cell_type": "code",
   "execution_count": 215,
   "metadata": {},
   "outputs": [],
   "source": [
    "def construct_frequency_matrix(path_to_pairwise_counts_unbound : str, path_to_pairwise_counts_bound : str):\n",
    "    \"\"\"Constructs the frequency matrix from the pairwise count files output by the dmMIME simulator.\n",
    "    First the bound and unbound counts are added together to get the total counts of the initial pool.\n",
    "    Then a square n x n matrix is constructed where n is the number of possible mutations, so sequence length * 3.\n",
    "    For mutations at the same position the entry is 0, which are 3x3 blocks along the diagonal.\n",
    "    For the mutation of interest the entry is 1, which is 1 along the diagonal.\n",
    "    For mutations at different positions the entry is the pairwise frequency of both mutations - the pairwise frequency of the mutation and the wildtype.\n",
    "\n",
    "\n",
    "    Args:\n",
    "        path_to_pairwise_counts_unbound (str): path to the pairwise count file for unbound sequences output by the dmMIME simulator (8.txt)\n",
    "        path_to_pairwise_counts_bound (str): path to the pairwise count file for bound sequences output by the dmMIME simulator (7.txt)\n",
    "    \"\"\"\n",
    "\n",
    "    unbound_counts = np.loadtxt(path_to_pairwise_counts_unbound, skiprows=1, delimiter='\\t')\n",
    "    bound_counts = np.loadtxt(path_to_pairwise_counts_bound, skiprows=1, delimiter='\\t')\n",
    "\n",
    "    # first 2 columns for positions stay the same, the rest are the counts\n",
    "    counts = np.hstack((unbound_counts[:, :2], unbound_counts[:, 2:] + bound_counts[:, 2:]))\n",
    "\n",
    "    # construct the frequency matrix\n",
    "    n_pos = np.where(counts[:, 0] == 1)[0].shape[0] + 1\n",
    "    n_mut =  n_pos * 3\n",
    "    freq_matrix = np.zeros((n_mut, n_mut))\n",
    "\n",
    "    for pos1 in range(n_pos):\n",
    "        for pos2 in range(n_pos):\n",
    "            if pos1 == pos2:\n",
    "                for mut1 in range(3):\n",
    "                    for mut2 in range(3):\n",
    "                    # if mutations are at the same position\n",
    "                        if mut1 == mut2:\n",
    "                            freq_matrix[pos1*3 + mut1, pos2*3 + mut2] = 1\n",
    "                        else:\n",
    "                            freq_matrix[pos1*3 + mut1, pos2*3 + mut2] = 0\n",
    "\n",
    "            else:\n",
    "                for mut1 in range(3):\n",
    "                    for mut2 in range(3):\n",
    "                        if pos1 < pos2:\n",
    "                            pairwise_counts = counts[np.where((counts[:, 0] == pos1 + 1) & (counts[:, 1] == pos2 + 1))[0], 2:]\n",
    "                            # get pairwise frequency of the mutation 2 at position 2 and the wildtype at position 1\n",
    "                            freq_mut2_wt1 = pairwise_counts[0, mut2+1]/(pairwise_counts[0, 0] + pairwise_counts[0, 1] + pairwise_counts[0, 2] + pairwise_counts[0, 3])\n",
    "                            # get pairwise frequency of the mutation 2 at position 2 and the mutation 1 at position 1\n",
    "                            freq_mut2_mut1 = pairwise_counts[0, (mut1+1)*4 + mut2+1]/(pairwise_counts[0, (mut1+1)*4] + pairwise_counts[0, (mut1+1)*4 + 1] + pairwise_counts[0, (mut1+1)*4 + 2] + pairwise_counts[0, (mut1+1)*4 + 3])\n",
    "\n",
    "                            freq_matrix[pos1*3 + mut1, pos2*3 + mut2] = freq_mut2_mut1 - freq_mut2_wt1\n",
    "\n",
    "                        if pos1 > pos2:\n",
    "                            pairwise_counts = counts[np.where((counts[:, 0] == pos2 + 1) & (counts[:, 1] == pos1 + 1))[0], 2:]\n",
    "                            # get pairwise frequency of the mutation 2 at position 2 and the wildtype at position 1\n",
    "                            freq_mut2_wt1 = pairwise_counts[0, (mut2+1)*4]/(pairwise_counts[0, 0] + pairwise_counts[0, 4] + pairwise_counts[0, 8] + pairwise_counts[0, 12])\n",
    "                            # get pairwise frequency of the mutation 2 at position 2 and the mutation 1 at position 1\n",
    "                            freq_mut2_mut1 = pairwise_counts[0, (mut2+1)*4 + mut1+1]/(pairwise_counts[0, (mut2+1)*4] + pairwise_counts[0, (mut2+1)*4 + 1] + pairwise_counts[0, (mut2+1)*4 + 2] + pairwise_counts[0, (mut2+1)*4 + 3])\n",
    "\n",
    "                            freq_matrix[pos1*3 + mut1, pos2*3 + mut2] = freq_mut2_mut1 - freq_mut2_wt1\n",
    "\n",
    "    print(freq_matrix.shape)\n",
    "    print(np.round(freq_matrix[:12, :12], 2))\n",
    "\n",
    "    return freq_matrix\n"
   ]
  },
  {
   "cell_type": "code",
   "execution_count": 216,
   "metadata": {},
   "outputs": [
    {
     "name": "stdout",
     "output_type": "stream",
     "text": [
      "(300, 300)\n",
      "[[ 1.    0.    0.    0.03  0.03  0.03  0.    0.    0.    0.   -0.    0.  ]\n",
      " [ 0.    1.    0.    0.16  0.04  0.06  0.    0.01  0.01  0.   -0.    0.  ]\n",
      " [ 0.    0.    1.    0.29  0.19  0.08  0.    0.01  0.01  0.   -0.    0.01]\n",
      " [ 0.03  0.17  0.3   1.    0.    0.    0.01  0.04  0.    0.   -0.    0.  ]\n",
      " [ 0.02  0.04  0.2   0.    1.    0.    0.01  0.02  0.05  0.01 -0.    0.01]\n",
      " [ 0.03  0.06  0.08  0.    0.    1.    0.45  0.01  0.03  0.    0.    0.01]\n",
      " [-0.    0.01  0.01  0.01  0.01  0.46  1.    0.    0.    0.03  0.    0.04]\n",
      " [-0.    0.    0.01  0.04  0.02  0.02  0.    1.    0.    0.05  0.01  0.04]\n",
      " [-0.    0.    0.01  0.    0.05  0.03  0.    0.    1.    0.49  0.01  0.04]\n",
      " [-0.    0.01  0.01  0.    0.01  0.01  0.03  0.06  0.5   1.    0.    0.  ]\n",
      " [-0.01 -0.   -0.   -0.01 -0.    0.   -0.    0.01  0.02  0.    1.    0.  ]\n",
      " [-0.    0.    0.01 -0.    0.    0.01  0.03  0.05  0.05  0.    0.    1.  ]]\n"
     ]
    }
   ],
   "source": [
    "path_to_data = '/home/user/data_directory/MIME_sim_data/no_epistasis/secondFromProt1/prot1/2d/'\n",
    "construct_frequency_matrix(path_to_data + '8.txt', path_to_data + '7.txt')"
   ]
  },
  {
   "cell_type": "code",
   "execution_count": 217,
   "metadata": {},
   "outputs": [],
   "source": [
    "def matrix_equation(x : np.ndarray):\n",
    "    \"\"\"this function is the input for fsolve. It returns the matrix equation that needs to be solved to estimate the true Kds. \n",
    "    The equation has the form 0 = x + Ax - y, where x is the array of log(true Kds), A is a constructed frequency matrix, and y is the array of log(estimated Kds).\n",
    "    \n",
    "\n",
    "    Args:\n",
    "        x (np.ndarray): array of log(true Kds) that is going to be estimated by solving the matrix equation\n",
    "    \"\"\"    "
   ]
  }
 ],
 "metadata": {
  "kernelspec": {
   "display_name": "py39",
   "language": "python",
   "name": "python3"
  },
  "language_info": {
   "codemirror_mode": {
    "name": "ipython",
    "version": 3
   },
   "file_extension": ".py",
   "mimetype": "text/x-python",
   "name": "python",
   "nbconvert_exporter": "python",
   "pygments_lexer": "ipython3",
   "version": "3.9.18"
  }
 },
 "nbformat": 4,
 "nbformat_minor": 2
}
