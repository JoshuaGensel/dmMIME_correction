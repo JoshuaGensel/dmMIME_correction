{
 "cells": [
  {
   "cell_type": "code",
   "execution_count": 29,
   "metadata": {},
   "outputs": [],
   "source": [
    "import numpy as np\n",
    "import sympy as sym\n",
    "import scipy as sp\n",
    "import matplotlib.pyplot as plt\n",
    "import pandas as pd"
   ]
  },
  {
   "cell_type": "code",
   "execution_count": 30,
   "metadata": {},
   "outputs": [],
   "source": [
    "def construct_frequency_matrix(path_to_pairwise_counts_unbound : str, path_to_pairwise_counts_bound : str):\n",
    "    \"\"\"Constructs the frequency matrix from the pairwise count files output by the dmMIME simulator.\n",
    "    First the bound and unbound counts are added together to get the total counts of the initial pool.\n",
    "    Then a square n x n matrix is constructed where n is the number of possible mutations, so sequence length * 3.\n",
    "    For mutations at the same position the entry is 0, which are 3x3 blocks along the diagonal.\n",
    "    For the mutation of interest the entry is 1, which is 1 along the diagonal.\n",
    "    For mutations at different positions the entry is the pairwise frequency of both mutations - the pairwise frequency of the mutation and the wildtype.\n",
    "\n",
    "\n",
    "    Args:\n",
    "        path_to_pairwise_counts_unbound (str): path to the pairwise count file for unbound sequences output by the dmMIME simulator (8.txt)\n",
    "        path_to_pairwise_counts_bound (str): path to the pairwise count file for bound sequences output by the dmMIME simulator (7.txt)\n",
    "    \"\"\"\n",
    "\n",
    "    unbound_counts = np.loadtxt(path_to_pairwise_counts_unbound, skiprows=1, delimiter='\\t')\n",
    "    bound_counts = np.loadtxt(path_to_pairwise_counts_bound, skiprows=1, delimiter='\\t')\n",
    "\n",
    "    # first 2 columns for positions stay the same, the rest are the counts\n",
    "    counts = np.hstack((unbound_counts[:, :2], unbound_counts[:, 2:] + bound_counts[:, 2:]))\n",
    "\n",
    "    # construct the frequency matrix\n",
    "    n_pos = np.where(counts[:, 0] == 1)[0].shape[0] + 1\n",
    "    n_mut =  n_pos * 3\n",
    "    freq_matrix = np.zeros((n_mut, n_mut))\n",
    "\n",
    "    for pos1 in range(n_pos):\n",
    "        for pos2 in range(n_pos):\n",
    "            if pos1 == pos2:\n",
    "                for mut1 in range(3):\n",
    "                    for mut2 in range(3):\n",
    "                    # if mutations are at the same position\n",
    "                        if mut1 == mut2:\n",
    "                            freq_matrix[pos1*3 + mut1, pos2*3 + mut2] = 1\n",
    "                        else:\n",
    "                            freq_matrix[pos1*3 + mut1, pos2*3 + mut2] = 0\n",
    "\n",
    "            else:\n",
    "                for mut1 in range(3):\n",
    "                    for mut2 in range(3):\n",
    "                        # TODO this part still needs correction of the counts for sequencing errors\n",
    "                        if pos1 < pos2:\n",
    "                            pairwise_counts = counts[np.where((counts[:, 0] == pos1 + 1) & (counts[:, 1] == pos2 + 1))[0], 2:]\n",
    "                            # get pairwise frequency of the mutation 2 at position 2 and the wildtype at position 1\n",
    "                            freq_mut2_wt1 = pairwise_counts[0, mut2+1]/(pairwise_counts[0, 0] + pairwise_counts[0, 1] + pairwise_counts[0, 2] + pairwise_counts[0, 3])\n",
    "                            # get pairwise frequency of the mutation 2 at position 2 and the mutation 1 at position 1\n",
    "                            freq_mut2_mut1 = pairwise_counts[0, (mut1+1)*4 + mut2+1]/(pairwise_counts[0, (mut1+1)*4] + pairwise_counts[0, (mut1+1)*4 + 1] + pairwise_counts[0, (mut1+1)*4 + 2] + pairwise_counts[0, (mut1+1)*4 + 3])\n",
    "\n",
    "                            freq_matrix[pos1*3 + mut1, pos2*3 + mut2] = freq_mut2_mut1 - freq_mut2_wt1\n",
    "\n",
    "                        if pos1 > pos2:\n",
    "                            pairwise_counts = counts[np.where((counts[:, 0] == pos2 + 1) & (counts[:, 1] == pos1 + 1))[0], 2:]\n",
    "                            # get pairwise frequency of the mutation 2 at position 2 and the wildtype at position 1\n",
    "                            freq_mut2_wt1 = pairwise_counts[0, (mut2+1)*4]/(pairwise_counts[0, 0] + pairwise_counts[0, 4] + pairwise_counts[0, 8] + pairwise_counts[0, 12])\n",
    "                            # get pairwise frequency of the mutation 2 at position 2 and the mutation 1 at position 1\n",
    "                            freq_mut2_mut1 = pairwise_counts[0, (mut2+1)*4 + mut1+1]/(pairwise_counts[0, (mut2+1)*4] + pairwise_counts[0, (mut2+1)*4 + 1] + pairwise_counts[0, (mut2+1)*4 + 2] + pairwise_counts[0, (mut2+1)*4 + 3])\n",
    "\n",
    "                            freq_matrix[pos1*3 + mut1, pos2*3 + mut2] = freq_mut2_mut1 - freq_mut2_wt1\n",
    "\n",
    "    print(freq_matrix.shape)\n",
    "    print(np.round(freq_matrix[:12, :12], 2))\n",
    "\n",
    "    return freq_matrix\n"
   ]
  },
  {
   "cell_type": "code",
   "execution_count": 31,
   "metadata": {},
   "outputs": [
    {
     "name": "stdout",
     "output_type": "stream",
     "text": [
      "(300, 300)\n",
      "[[ 1.    0.    0.    0.03  0.03  0.03  0.    0.    0.    0.   -0.    0.  ]\n",
      " [ 0.    1.    0.    0.16  0.04  0.06  0.    0.01  0.01  0.   -0.    0.  ]\n",
      " [ 0.    0.    1.    0.29  0.19  0.08  0.    0.01  0.01  0.   -0.    0.01]\n",
      " [ 0.03  0.17  0.3   1.    0.    0.    0.01  0.04  0.    0.   -0.    0.  ]\n",
      " [ 0.02  0.04  0.2   0.    1.    0.    0.01  0.02  0.05  0.01 -0.    0.01]\n",
      " [ 0.03  0.06  0.08  0.    0.    1.    0.45  0.01  0.03  0.    0.    0.01]\n",
      " [-0.    0.01  0.01  0.01  0.01  0.46  1.    0.    0.    0.03  0.    0.04]\n",
      " [-0.    0.    0.01  0.04  0.02  0.02  0.    1.    0.    0.05  0.01  0.04]\n",
      " [-0.    0.    0.01  0.    0.05  0.03  0.    0.    1.    0.49  0.01  0.04]\n",
      " [-0.    0.01  0.01  0.    0.01  0.01  0.03  0.06  0.5   1.    0.    0.  ]\n",
      " [-0.01 -0.   -0.   -0.01 -0.    0.   -0.    0.01  0.02  0.    1.    0.  ]\n",
      " [-0.    0.    0.01 -0.    0.    0.01  0.03  0.05  0.05  0.    0.    1.  ]]\n"
     ]
    }
   ],
   "source": [
    "path_to_data = '/home/user/data_directory/MIME_sim_data/no_epistasis/secondFromProt1/prot1'\n",
    "A = construct_frequency_matrix(path_to_data + '/2d/8.txt', path_to_data + '/2d/7.txt')"
   ]
  },
  {
   "cell_type": "code",
   "execution_count": 32,
   "metadata": {},
   "outputs": [],
   "source": [
    "def get_inferred_Kds(path : str):\n",
    "    \"\"\"\n",
    "    Get inferred Kds from PositionWiseKdEstimates.csv file\n",
    "    \"\"\"\n",
    "    df = pd.read_csv(path, sep='\\t')\n",
    "    median_mut_C = df['median mut C'].values\n",
    "    median_mut_G = df['median mut G'].values\n",
    "    median_mut_U = df['median mut U'].values\n",
    "    median_Kds = np.vstack((median_mut_C, median_mut_G, median_mut_U)).T.flatten()\n",
    "    return median_Kds"
   ]
  },
  {
   "cell_type": "code",
   "execution_count": 37,
   "metadata": {},
   "outputs": [
    {
     "name": "stdout",
     "output_type": "stream",
     "text": [
      "nans:  1\n",
      "(300,)\n",
      "[ 0.29  0.11  0.2   0.03 -0.04  2.1   0.63  0.11  0.36  0.48 -2.11  0.1\n",
      " -0.38 -0.04 -0.28  0.04 -0.54 -0.01 -0.06 -0.18  0.09 -0.04 -0.03  0.86\n",
      "  0.14  0.52  0.02  0.7   0.11  0.21  0.65  0.23  0.39  0.51  0.53   nan\n",
      "  0.22  0.13 -0.24 -0.1   0.62 -0.01 -0.04 -0.79  0.87  0.99  0.02  0.6\n",
      "  0.17  0.11  0.16  0.11  0.17 -0.75 -0.73  0.08 -0.1   0.05  0.09  0.4\n",
      "  0.17 -0.05  0.86  0.25  0.11 -0.11 -1.3   0.16  0.32  0.53  0.99  0.08\n",
      "  0.08  0.07  0.39  0.04  0.04 -0.01 -0.06 -0.12 -0.8  -0.91 -0.13 -0.06\n",
      " -0.26  0.03 -0.01  0.03  0.02  0.07  0.01  0.04 -1.31 -0.03  0.02  0.01\n",
      "  0.06 -0.79 -0.01 -0.48  1.34  0.51  0.46 -0.1   0.09  0.42 -0.42  0.06\n",
      "  0.23  0.03  0.05  0.03  0.01  0.04  0.09 -0.32 -0.06 -0.   -0.   -0.03\n",
      " -1.28  0.02  0.05 -0.01 -0.25  0.95  0.07 -0.95 -0.56  0.05  0.02  0.09\n",
      "  0.51 -0.55  0.22 -0.45  1.39  0.96  0.03 -0.01 -0.    0.04  0.1  -0.\n",
      " -0.77  0.03 -0.01  0.01 -0.61  0.03  0.78  0.    0.79  0.89  0.13  0.03\n",
      "  1.17 -0.33 -0.68  1.5   0.54 -0.68  1.28 -0.1  -0.06 -0.36 -0.63  0.01\n",
      " -0.05  0.03  0.01  0.33 -0.5  -0.59 -0.6   0.59  0.11  0.03  0.03  0.03\n",
      "  0.01  0.02  0.78  0.08 -0.1   0.33  0.08  0.07 -0.11  0.07 -1.21  0.03\n",
      " -0.03  0.67  0.03  0.04  0.59 -0.29  0.36 -0.    0.03  0.04  0.05 -0.09\n",
      "  0.03  0.03  0.09  0.05  1.2   0.02  0.15  0.04 -0.46  0.3  -0.41 -1.61\n",
      " -0.03 -0.    0.04  1.25  2.62  0.04  0.09  0.3  -0.06  0.34 -1.39 -1.08\n",
      " -0.77 -0.01 -0.11 -0.04  0.01 -1.49  1.53 -0.01  0.53 -0.07 -0.02 -0.02\n",
      " -1.57 -1.34  0.13 -0.59 -0.1  -0.01 -1.07  0.03 -0.01 -0.02 -0.    0.69\n",
      "  0.    0.07 -0.06  0.35  0.33 -0.43  0.   -0.02  0.   -0.62 -0.45  0.64\n",
      "  0.39 -0.21  0.   -1.03 -0.88 -0.32 -0.08  0.62  0.01  0.06  0.03 -0.24\n",
      "  0.14  0.1   0.07 -0.02  0.69 -0.06 -0.73  0.05  0.27  0.04  0.04 -1.06\n",
      " -0.05  0.64 -0.03  0.26  0.01  0.    0.04  0.01  0.01  0.27 -0.04 -0.01]\n"
     ]
    }
   ],
   "source": [
    "# load estimated kds\n",
    "b = get_inferred_Kds(path_to_data + '/results/PositionWiseKdEstimates.csv')\n",
    "b = np.log(b)\n",
    "print('nans: ',np.sum(np.isnan(b)))\n",
    "print(b.shape)\n",
    "print(np.round(b, 2))"
   ]
  },
  {
   "cell_type": "code",
   "execution_count": 38,
   "metadata": {},
   "outputs": [
    {
     "name": "stdout",
     "output_type": "stream",
     "text": [
      "(300,)\n",
      "[ 0.36  0.    0.    0.    0.    2.73  0.    0.    0.    0.59 -3.05  0.\n",
      "  0.   -0.13  0.    0.   -0.86  0.    0.14 -0.35  0.    0.   -0.07  1.09\n",
      "  0.    0.   -0.32  0.92  0.    0.    0.74  0.    0.    0.69  0.75  3.44\n",
      " -0.26  0.   -0.47  0.    0.82  0.   -0.18 -1.14  0.66  1.21  0.    0.83\n",
      "  0.    0.    0.    0.    0.   -0.95 -0.89  0.   -0.22  0.    0.    0.37\n",
      "  0.   -0.15  1.07  0.    0.    0.   -2.02  0.   -0.07  0.74  1.27  0.\n",
      "  0.    0.    0.31  0.    0.    0.   -0.12  0.   -1.06 -1.22 -0.11  0.\n",
      " -0.34  0.   -0.04  0.    0.    0.    0.    0.   -1.89  0.    0.    0.\n",
      "  0.   -1.18  0.   -0.64  1.92  0.72  0.67 -0.16  0.    0.58 -0.63  0.\n",
      "  0.3   0.    0.    0.    0.    0.    0.   -0.49 -0.17  0.   -0.02  0.\n",
      " -1.94  0.    0.    0.   -0.35  1.39  0.   -1.42 -0.86  0.26  0.    0.\n",
      "  0.72 -0.76  0.38 -0.66  1.99  1.48  0.    0.    0.    0.    0.12  0.\n",
      " -1.09  0.    0.    0.   -0.91  0.    1.06  0.    0.93  1.05  0.    0.\n",
      "  1.51 -0.69 -1.09  2.1   0.68 -0.94  1.66  0.    0.   -0.6  -0.9   0.\n",
      "  0.    0.    0.    0.41 -0.68 -0.82 -0.77  0.82  0.11  0.    0.    0.\n",
      "  0.    0.    1.05  0.   -0.27  0.38  0.06  0.    0.    0.05 -1.7   0.\n",
      "  0.    0.85  0.    0.    0.72 -0.45  0.39  0.    0.    0.    0.   -0.15\n",
      "  0.    0.    0.    0.    1.62  0.    0.    0.   -0.61  0.39 -0.51 -2.21\n",
      "  0.    0.   -0.11  1.66  3.46  0.   -0.14  0.28 -0.17  0.5  -1.9  -1.42\n",
      " -1.03  0.    0.    0.    0.   -2.06  2.11  0.    0.93  0.    0.    0.\n",
      " -2.24 -1.82  0.17 -0.76  0.    0.   -1.41  0.05  0.    0.    0.    0.92\n",
      "  0.    0.   -0.12  0.45  0.44 -0.59  0.    0.    0.   -0.84 -0.66  0.87\n",
      "  0.64 -0.24  0.   -1.43 -1.18 -0.48  0.    0.86  0.    0.    0.   -0.32\n",
      "  0.18  0.17  0.07  0.    0.97 -0.11 -1.04  0.    0.46  0.09  0.   -1.51\n",
      " -0.09  0.9   0.    0.3   0.    0.    0.    0.    0.    0.47  0.    0.  ]\n"
     ]
    }
   ],
   "source": [
    "# load ground truth kds\n",
    "ground_truth = np.loadtxt(path_to_data + '/single_kds.txt')\n",
    "ground_truth = np.log(ground_truth)\n",
    "print(ground_truth.shape)\n",
    "print(np.round(ground_truth, 2))"
   ]
  },
  {
   "cell_type": "code",
   "execution_count": 39,
   "metadata": {},
   "outputs": [
    {
     "name": "stdout",
     "output_type": "stream",
     "text": [
      "[ 0.29  0.11  0.2   0.03 -0.04  2.1   0.63  0.11  0.36  0.48 -2.11  0.1\n",
      " -0.38 -0.04 -0.28  0.04 -0.54 -0.01 -0.06 -0.18  0.09 -0.04 -0.03  0.86\n",
      "  0.14  0.52  0.02  0.7   0.11  0.21  0.65  0.23  0.39  0.51  0.53  3.44\n",
      "  0.22  0.13 -0.24 -0.1   0.62 -0.01 -0.04 -0.79  0.87  0.99  0.02  0.6\n",
      "  0.17  0.11  0.16  0.11  0.17 -0.75 -0.73  0.08 -0.1   0.05  0.09  0.4\n",
      "  0.17 -0.05  0.86  0.25  0.11 -0.11 -1.3   0.16  0.32  0.53  0.99  0.08\n",
      "  0.08  0.07  0.39  0.04  0.04 -0.01 -0.06 -0.12 -0.8  -0.91 -0.13 -0.06\n",
      " -0.26  0.03 -0.01  0.03  0.02  0.07  0.01  0.04 -1.31 -0.03  0.02  0.01\n",
      "  0.06 -0.79 -0.01 -0.48  1.34  0.51  0.46 -0.1   0.09  0.42 -0.42  0.06\n",
      "  0.23  0.03  0.05  0.03  0.01  0.04  0.09 -0.32 -0.06 -0.   -0.   -0.03\n",
      " -1.28  0.02  0.05 -0.01 -0.25  0.95  0.07 -0.95 -0.56  0.05  0.02  0.09\n",
      "  0.51 -0.55  0.22 -0.45  1.39  0.96  0.03 -0.01 -0.    0.04  0.1  -0.\n",
      " -0.77  0.03 -0.01  0.01 -0.61  0.03  0.78  0.    0.79  0.89  0.13  0.03\n",
      "  1.17 -0.33 -0.68  1.5   0.54 -0.68  1.28 -0.1  -0.06 -0.36 -0.63  0.01\n",
      " -0.05  0.03  0.01  0.33 -0.5  -0.59 -0.6   0.59  0.11  0.03  0.03  0.03\n",
      "  0.01  0.02  0.78  0.08 -0.1   0.33  0.08  0.07 -0.11  0.07 -1.21  0.03\n",
      " -0.03  0.67  0.03  0.04  0.59 -0.29  0.36 -0.    0.03  0.04  0.05 -0.09\n",
      "  0.03  0.03  0.09  0.05  1.2   0.02  0.15  0.04 -0.46  0.3  -0.41 -1.61\n",
      " -0.03 -0.    0.04  1.25  2.62  0.04  0.09  0.3  -0.06  0.34 -1.39 -1.08\n",
      " -0.77 -0.01 -0.11 -0.04  0.01 -1.49  1.53 -0.01  0.53 -0.07 -0.02 -0.02\n",
      " -1.57 -1.34  0.13 -0.59 -0.1  -0.01 -1.07  0.03 -0.01 -0.02 -0.    0.69\n",
      "  0.    0.07 -0.06  0.35  0.33 -0.43  0.   -0.02  0.   -0.62 -0.45  0.64\n",
      "  0.39 -0.21  0.   -1.03 -0.88 -0.32 -0.08  0.62  0.01  0.06  0.03 -0.24\n",
      "  0.14  0.1   0.07 -0.02  0.69 -0.06 -0.73  0.05  0.27  0.04  0.04 -1.06\n",
      " -0.05  0.64 -0.03  0.26  0.01  0.    0.04  0.01  0.01  0.27 -0.04 -0.01]\n"
     ]
    }
   ],
   "source": [
    "b[np.isnan(b)] = ground_truth[np.isnan(b)]\n",
    "print(np.round(b, 2))"
   ]
  },
  {
   "cell_type": "code",
   "execution_count": 35,
   "metadata": {},
   "outputs": [
    {
     "name": "stdout",
     "output_type": "stream",
     "text": [
      "(300,)\n",
      "[ 0.21 -0.03 -0.05  0.07  0.04  2.38 -0.47  0.08  0.13  0.41 -2.23 -0.04\n",
      "  0.28 -0.03 -0.05  0.04 -0.61  0.    0.11 -0.24 -0.01  0.01 -0.02  0.87\n",
      " -0.   -0.   -0.19  0.77  0.02  0.05  0.56 -0.    0.03  0.57  0.67  3.68\n",
      " -0.5   0.02 -0.34  0.01  0.64  0.03 -0.13 -0.81  0.54  0.84  0.07  0.64\n",
      "  0.07  0.06  0.07  0.02  0.07 -0.7  -0.61  0.01 -0.11 -0.08 -0.    0.26\n",
      " -0.01 -0.1   0.8  -0.06  0.01 -0.05 -1.45 -0.    0.02  0.45  0.93  0.02\n",
      " -0.06  0.02  0.21  0.01 -0.    0.05 -0.03  0.   -0.74 -0.87 -0.07  0.04\n",
      " -0.22  0.04  0.    0.02  0.02  0.06  0.04  0.06 -1.33  0.02  0.02  0.04\n",
      "  0.04 -0.81  0.04 -0.42  1.44  0.54  0.51 -0.07  0.06  0.44 -0.41  0.04\n",
      "  0.25  0.04  0.05  0.04  0.04  0.07  0.07 -0.3  -0.08  0.04  0.03  0.02\n",
      " -1.32  0.04  0.05  0.03 -0.2   1.05  0.05 -0.96 -0.58  0.24  0.08  0.06\n",
      "  0.58 -0.51  0.3  -0.44  1.53  1.11  0.05  0.03  0.04  0.06  0.13  0.05\n",
      " -0.74  0.07  0.04  0.05 -0.6   0.04  0.83  0.06  0.81  0.85  0.07  0.03\n",
      "  1.19 -0.42 -0.73  1.62  0.55 -0.63  1.32  0.03  0.03 -0.34 -0.58  0.06\n",
      "  0.04  0.06  0.07  0.37 -0.44 -0.54 -0.51  0.67  0.17  0.07  0.09  0.09\n",
      "  0.07  0.07  0.86  0.09 -0.1   0.37  0.12  0.1   0.03  0.12 -1.15  0.07\n",
      "  0.07  0.71  0.06  0.07  0.63 -0.24  0.37  0.08  0.08  0.09  0.09 -0.03\n",
      "  0.08  0.08  0.08  0.1   1.28  0.09  0.12  0.07 -0.36  0.37 -0.32 -1.51\n",
      "  0.08  0.08 -0.01  1.35  2.76  0.08 -0.02  0.29 -0.04  0.46 -1.25 -0.94\n",
      " -0.64  0.1   0.07  0.06  0.11 -1.36  1.71  0.1   0.74  0.06  0.1   0.09\n",
      " -1.42 -1.2   0.25 -0.43  0.09  0.12 -0.91  0.16  0.12  0.11  0.12  0.83\n",
      "  0.12  0.15  0.06  0.47  0.47 -0.3   0.11  0.12  0.13 -0.48 -0.33  0.78\n",
      "  0.57 -0.06  0.14 -0.88 -0.73 -0.21  0.1   0.79  0.14  0.16  0.15 -0.1\n",
      "  0.28  0.25  0.21  0.12  0.84  0.06 -0.58  0.17  0.45  0.2   0.14 -0.92\n",
      "  0.09  0.81  0.13  0.38  0.14  0.15  0.16  0.15  0.15  0.47  0.13  0.13]\n"
     ]
    }
   ],
   "source": [
    "corrected_Kds = np.linalg.solve(A, b)\n",
    "print(corrected_Kds.shape)\n",
    "print(np.round(corrected_Kds, 2))"
   ]
  },
  {
   "cell_type": "code",
   "execution_count": 36,
   "metadata": {},
   "outputs": [
    {
     "data": {
      "image/png": "[encoded data removed]",
      "text/plain": [
       "<Figure size 640x480 with 1 Axes>"
      ]
     },
     "metadata": {},
     "output_type": "display_data"
    }
   ],
   "source": [
    "#plot ground truth vs estimated and correcceted Kds\n",
    "plt.scatter(ground_truth, b, label='estimated Kds')\n",
    "plt.scatter(ground_truth, corrected_Kds, label='corrected Kds')\n",
    "plt.xlabel('ground truth Kds')\n",
    "plt.ylabel('Kds')\n",
    "plt.legend()\n",
    "# add 1:1 line\n",
    "plt.plot([np.min(ground_truth), np.max(ground_truth)], [np.min(ground_truth), np.max(ground_truth)], 'k--')\n",
    "plt.show()"
   ]
  }
 ],
 "metadata": {
  "kernelspec": {
   "display_name": "py39",
   "language": "python",
   "name": "python3"
  },
  "language_info": {
   "codemirror_mode": {
    "name": "ipython",
    "version": 3
   },
   "file_extension": ".py",
   "mimetype": "text/x-python",
   "name": "python",
   "nbconvert_exporter": "python",
   "pygments_lexer": "ipython3",
   "version": "3.9.18"
  }
 },
 "nbformat": 4,
 "nbformat_minor": 2
}
