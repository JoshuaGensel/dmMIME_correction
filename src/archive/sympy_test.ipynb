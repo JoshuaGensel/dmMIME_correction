{
 "cells": [
  {
   "cell_type": "code",
   "execution_count": 1,
   "metadata": {},
   "outputs": [],
   "source": [
    "import numpy as np\n",
    "import sympy as sp\n",
    "sp.init_printing(use_latex=True)"
   ]
  },
  {
   "cell_type": "code",
   "execution_count": 2,
   "metadata": {},
   "outputs": [],
   "source": [
    "x_1, x_2, x_3, y_1, y_2, y_3, p_1, p_2, p_3 = sp.symbols('x_1 x_2 x_3 y_1 y_2 y_3 p_1 p_2 p_3')"
   ]
  },
  {
   "cell_type": "code",
   "execution_count": 3,
   "metadata": {},
   "outputs": [
    {
     "data": {
      "image/png": "[encoded data removed]",
      "text/latex": [
       "$\\displaystyle \\log{\\left(x_{1} \\right)} = p_{1} \\log{\\left(x_{1} \\right)} + p_{2} \\log{\\left(x_{1} \\right)} + p_{2} \\log{\\left(\\frac{y_{2}}{y_{1}} \\right)} + p_{3} \\log{\\left(x_{1} \\right)} + p_{3} \\log{\\left(\\frac{y_{3}}{y_{1}} \\right)} + \\log{\\left(y_{1} \\right)}$"
      ],
      "text/plain": [
       "                                          ⎛y₂⎞                      ⎛y₃⎞      \n",
       "log(x₁) = p₁⋅log(x₁) + p₂⋅log(x₁) + p₂⋅log⎜──⎟ + p₃⋅log(x₁) + p₃⋅log⎜──⎟ + log\n",
       "                                          ⎝y₁⎠                      ⎝y₁⎠      \n",
       "\n",
       "    \n",
       "(y₁)\n",
       "    "
      ]
     },
     "metadata": {},
     "output_type": "display_data"
    },
    {
     "data": {
      "image/png": "[encoded data removed]",
      "text/latex": [
       "$\\displaystyle \\log{\\left(x_{2} \\right)} = p_{1} \\log{\\left(x_{2} \\right)} + p_{1} \\log{\\left(\\frac{y_{1}}{y_{2}} \\right)} + p_{2} \\log{\\left(x_{2} \\right)} + p_{3} \\log{\\left(x_{2} \\right)} + p_{3} \\log{\\left(\\frac{y_{3}}{y_{2}} \\right)} + \\log{\\left(y_{2} \\right)}$"
      ],
      "text/plain": [
       "                             ⎛y₁⎞                                   ⎛y₃⎞      \n",
       "log(x₂) = p₁⋅log(x₂) + p₁⋅log⎜──⎟ + p₂⋅log(x₂) + p₃⋅log(x₂) + p₃⋅log⎜──⎟ + log\n",
       "                             ⎝y₂⎠                                   ⎝y₂⎠      \n",
       "\n",
       "    \n",
       "(y₂)\n",
       "    "
      ]
     },
     "metadata": {},
     "output_type": "display_data"
    },
    {
     "data": {
      "image/png": "[encoded data removed]",
      "text/latex": [
       "$\\displaystyle \\log{\\left(x_{3} \\right)} = p_{1} \\log{\\left(x_{3} \\right)} + p_{1} \\log{\\left(\\frac{y_{1}}{y_{3}} \\right)} + p_{2} \\log{\\left(x_{3} \\right)} + p_{2} \\log{\\left(\\frac{y_{2}}{y_{3}} \\right)} + p_{3} \\log{\\left(x_{3} \\right)} + \\log{\\left(y_{3} \\right)}$"
      ],
      "text/plain": [
       "                             ⎛y₁⎞                      ⎛y₂⎞                   \n",
       "log(x₃) = p₁⋅log(x₃) + p₁⋅log⎜──⎟ + p₂⋅log(x₃) + p₂⋅log⎜──⎟ + p₃⋅log(x₃) + log\n",
       "                             ⎝y₃⎠                      ⎝y₃⎠                   \n",
       "\n",
       "    \n",
       "(y₃)\n",
       "    "
      ]
     },
     "metadata": {},
     "output_type": "display_data"
    }
   ],
   "source": [
    "equation_x_1 = sp.Eq(sp.log(x_1), sp.log(y_1) + p_1 * sp.log(y_1/y_1) + p_1 * sp.log(x_1) + p_2 * sp.log(y_2/y_1) + p_2 * sp.log(x_1) + p_3 * sp.log(y_3/y_1) + p_3 * sp.log(x_1))\n",
    "display(equation_x_1)\n",
    "equation_x_2 = sp.Eq(sp.log(x_2), sp.log(y_2) + p_1 * sp.log(y_1/y_2) + p_1 * sp.log(x_2) + p_2 * sp.log(y_2/y_2) + p_2 * sp.log(x_2) + p_3 * sp.log(y_3/y_2) + p_3 * sp.log(x_2))\n",
    "display(equation_x_2)\n",
    "equation_x_3 = sp.Eq(sp.log(x_3), sp.log(y_3) + p_1 * sp.log(y_1/y_3) + p_1 * sp.log(x_3) + p_2 * sp.log(y_2/y_3) + p_2 * sp.log(x_3) + p_3 * sp.log(y_3/y_3) + p_3 * sp.log(x_3))\n",
    "display(equation_x_3)"
   ]
  },
  {
   "cell_type": "code",
   "execution_count": 4,
   "metadata": {},
   "outputs": [
    {
     "data": {
      "image/png": "[encoded data removed]",
      "text/latex": [
       "$\\displaystyle \\left[ e^{\\frac{- p_{2} \\log{\\left(\\frac{y_{2}}{y_{1}} \\right)} - p_{3} \\log{\\left(\\frac{y_{3}}{y_{1}} \\right)} - \\log{\\left(y_{1} \\right)}}{p_{1} + p_{2} + p_{3} - 1}}\\right]$"
      ],
      "text/plain": [
       "⎡         ⎛y₂⎞         ⎛y₃⎞          ⎤\n",
       "⎢ - p₂⋅log⎜──⎟ - p₃⋅log⎜──⎟ - log(y₁)⎥\n",
       "⎢         ⎝y₁⎠         ⎝y₁⎠          ⎥\n",
       "⎢ ───────────────────────────────────⎥\n",
       "⎢           p₁ + p₂ + p₃ - 1         ⎥\n",
       "⎣ℯ                                   ⎦"
      ]
     },
     "metadata": {},
     "output_type": "display_data"
    },
    {
     "data": {
      "image/png": "[encoded data removed]",
      "text/latex": [
       "$\\displaystyle \\left[ e^{\\frac{- p_{1} \\log{\\left(\\frac{y_{1}}{y_{2}} \\right)} - p_{3} \\log{\\left(\\frac{y_{3}}{y_{2}} \\right)} - \\log{\\left(y_{2} \\right)}}{p_{1} + p_{2} + p_{3} - 1}}\\right]$"
      ],
      "text/plain": [
       "⎡         ⎛y₁⎞         ⎛y₃⎞          ⎤\n",
       "⎢ - p₁⋅log⎜──⎟ - p₃⋅log⎜──⎟ - log(y₂)⎥\n",
       "⎢         ⎝y₂⎠         ⎝y₂⎠          ⎥\n",
       "⎢ ───────────────────────────────────⎥\n",
       "⎢           p₁ + p₂ + p₃ - 1         ⎥\n",
       "⎣ℯ                                   ⎦"
      ]
     },
     "metadata": {},
     "output_type": "display_data"
    },
    {
     "data": {
      "image/png": "[encoded data removed]",
      "text/latex": [
       "$\\displaystyle \\left[ e^{\\frac{- p_{1} \\log{\\left(\\frac{y_{1}}{y_{3}} \\right)} - p_{2} \\log{\\left(\\frac{y_{2}}{y_{3}} \\right)} - \\log{\\left(y_{3} \\right)}}{p_{1} + p_{2} + p_{3} - 1}}\\right]$"
      ],
      "text/plain": [
       "⎡         ⎛y₁⎞         ⎛y₂⎞          ⎤\n",
       "⎢ - p₁⋅log⎜──⎟ - p₂⋅log⎜──⎟ - log(y₃)⎥\n",
       "⎢         ⎝y₃⎠         ⎝y₃⎠          ⎥\n",
       "⎢ ───────────────────────────────────⎥\n",
       "⎢           p₁ + p₂ + p₃ - 1         ⎥\n",
       "⎣ℯ                                   ⎦"
      ]
     },
     "metadata": {},
     "output_type": "display_data"
    }
   ],
   "source": [
    "display(sp.solve(equation_x_1, x_1))\n",
    "display(sp.solve(equation_x_2, x_2))\n",
    "display(sp.solve(equation_x_3, x_3))"
   ]
  },
  {
   "cell_type": "markdown",
   "metadata": {},
   "source": [
    "consensus with wolfram alpha, just different form"
   ]
  },
  {
   "cell_type": "code",
   "execution_count": 5,
   "metadata": {},
   "outputs": [
    {
     "data": {
      "image/png": "[encoded data removed]",
      "text/latex": [
       "$\\displaystyle \\log{\\left(x_{1} \\right)} = 0.15 \\log{\\left(x_{1} \\right)} - 0.109861228866811 + \\log{\\left(3 \\right)}$"
      ],
      "text/plain": [
       "log(x₁) = 0.15⋅log(x₁) - 0.109861228866811 + log(3)"
      ]
     },
     "metadata": {},
     "output_type": "display_data"
    }
   ],
   "source": [
    "example_equation_x_1 = sp.Eq(sp.log(x_1), sp.log(3) + .05 * sp.log(3/3) + .05 * sp.log(x_1) + .05 * sp.log(1/3) + .05 * sp.log(x_1) + .05 * sp.log(1/3) + .05 * sp.log(x_1))\n",
    "display(example_equation_x_1)"
   ]
  },
  {
   "cell_type": "code",
   "execution_count": 6,
   "metadata": {},
   "outputs": [],
   "source": [
    "# sp.solve(sp.Eq(sp.log(x_1), sp.log(3) + .05 * sp.log(3/3) + .05 * sp.log(x_1) + .05 * sp.log(1/3) + .05 * sp.log(x_1) + .05 * sp.log(1/3) + .05 * sp.log(x_1)), x_1)"
   ]
  },
  {
   "cell_type": "markdown",
   "metadata": {},
   "source": [
    "doesn't finish. wolfram alpha gives x_1 = 3.20027"
   ]
  },
  {
   "cell_type": "code",
   "execution_count": 7,
   "metadata": {},
   "outputs": [
    {
     "data": {
      "image/png": "[encoded data removed]",
      "text/latex": [
       "$\\displaystyle 3.20027435139853$"
      ],
      "text/plain": [
       "3.200274351398535"
      ]
     },
     "execution_count": 7,
     "metadata": {},
     "output_type": "execute_result"
    }
   ],
   "source": [
    "y_1 = 3\n",
    "y_2 = 1\n",
    "y_3 = 1\n",
    "p_1 = .05\n",
    "p_2 = .05\n",
    "p_3 = .05\n",
    "\n",
    "np.exp((-p_2*np.log(y_2/y_1)-p_3*np.log(y_3/y_1)-np.log(y_1))/(p_1 + p_2 + p_3-1))"
   ]
  },
  {
   "cell_type": "markdown",
   "metadata": {},
   "source": [
    "seems legit :)"
   ]
  },
  {
   "cell_type": "code",
   "execution_count": 8,
   "metadata": {},
   "outputs": [
    {
     "data": {
      "image/png": "[encoded data removed]",
      "text/latex": [
       "$\\displaystyle 3.20027435139854$"
      ],
      "text/plain": [
       "3.200274351398536"
      ]
     },
     "execution_count": 8,
     "metadata": {},
     "output_type": "execute_result"
    }
   ],
   "source": [
    "np.exp((np.log(y_1) + p_1*np.log(y_1/y_1) + p_2*np.log(y_2/y_1) + p_3*np.log(y_3/y_1))\n",
    "       /(1-p_1-p_2-p_3))"
   ]
  },
  {
   "cell_type": "code",
   "execution_count": 10,
   "metadata": {},
   "outputs": [],
   "source": [
    "x_1, x_2, x_3, x_4, p_1, p_2, p_3, p_4, p_5, p_6, p_7, p_8= sp.symbols('x_1 x_2 x_3 x_4 p_1 p_2 p_3 p_4 p_5 p_6 p_7 p_8')"
   ]
  },
  {
   "cell_type": "code",
   "execution_count": 14,
   "metadata": {},
   "outputs": [
    {
     "data": {
      "image/png": "[encoded data removed]",
      "text/latex": [
       "$\\displaystyle x_{1}^{p_{1}} x_{2}^{p_{2}} x_{2}^{- p_{6}} x_{3}^{p_{3}} x_{3}^{- p_{7}} x_{4}^{p_{4}} x_{4}^{- p_{8}}$"
      ],
      "text/plain": [
       "  p₁   p₂   -p₆   p₃   -p₇   p₄   -p₈\n",
       "x₁  ⋅x₂  ⋅x₂   ⋅x₃  ⋅x₃   ⋅x₄  ⋅x₄   "
      ]
     },
     "metadata": {},
     "output_type": "display_data"
    },
    {
     "data": {
      "image/png": "[encoded data removed]",
      "text/latex": [
       "$\\displaystyle x_{1}^{p_{1}} x_{2}^{p_{2} - p_{6}} x_{3}^{p_{3} - p_{7}} x_{4}^{p_{4} - p_{8}}$"
      ],
      "text/plain": [
       "  p₁   p₂ - p₆   p₃ - p₇   p₄ - p₈\n",
       "x₁  ⋅x₂       ⋅x₃       ⋅x₄       "
      ]
     },
     "execution_count": 14,
     "metadata": {},
     "output_type": "execute_result"
    }
   ],
   "source": [
    "display((x_1**p_1 * x_2**p_2 * x_3**p_3 * x_4**p_4) / (x_2**p_6 * x_3**p_7 * x_4**p_8))\n",
    "sp.simplify((x_1**p_1 * x_2**p_2 * x_3**p_3 * x_4**p_4) / (x_2**p_6 * x_3**p_7 * x_4**p_8))"
   ]
  }
 ],
 "metadata": {
  "kernelspec": {
   "display_name": "py39",
   "language": "python",
   "name": "python3"
  },
  "language_info": {
   "codemirror_mode": {
    "name": "ipython",
    "version": 3
   },
   "file_extension": ".py",
   "mimetype": "text/x-python",
   "name": "python",
   "nbconvert_exporter": "python",
   "pygments_lexer": "ipython3",
   "version": "3.9.18"
  }
 },
 "nbformat": 4,
 "nbformat_minor": 2
}
