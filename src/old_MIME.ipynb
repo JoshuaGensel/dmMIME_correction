{
 "cells": [
  {
   "cell_type": "code",
   "execution_count": 51,
   "id": "6b9a6b0d",
   "metadata": {},
   "outputs": [],
   "source": [
    "import numpy as np\n",
    "import scipy as sp\n",
    "import pandas as pd\n",
    "import matplotlib.pyplot as plt"
   ]
  },
  {
   "cell_type": "code",
   "execution_count": 52,
   "id": "d01b5c9c",
   "metadata": {},
   "outputs": [],
   "source": [
    "path='/datadisk/MIME/discrete_errortest_L7_n200K/'\n",
    "number_states=4"
   ]
  },
  {
   "cell_type": "code",
   "execution_count": 53,
   "id": "7b928d20",
   "metadata": {},
   "outputs": [
    {
     "name": "stdout",
     "output_type": "stream",
     "text": [
      "(4, 7)\n",
      "(4, 7)\n",
      "(21, 18)\n",
      "(21, 18)\n",
      "(7,)\n",
      "[0.073403 0.061693 0.059091 0.067753 0.069595 0.064271 0.060133]\n"
     ]
    }
   ],
   "source": [
    "# read in single and pairwise counts for seleceted and non selected sequences\n",
    "single__counts_selected = np.loadtxt(path+'target1_1_target2_1/round_1/selected/single_site_counts.csv', delimiter=',')\n",
    "single__counts_unselected = np.loadtxt(path+'target1_1_target2_1/round_1/non_selected/single_site_counts.csv', delimiter=',')\n",
    "pairwise_counts_selected = pd.read_csv(path+'target1_1_target2_1/round_1/selected/pairwise_count.csv', delimiter='\\t')\n",
    "pairwise_counts_unselected = pd.read_csv(path+'target1_1_target2_1/round_1/non_selected/pairwise_count.csv', delimiter='\\t')\n",
    "# read in the error rates\n",
    "error_rates = np.loadtxt(path+'/error_rates.csv')\n",
    "\n",
    "print(single__counts_selected.shape)\n",
    "print(single__counts_unselected.shape)\n",
    "print(pairwise_counts_selected.shape)\n",
    "# print(pairwise_counts_unselected.head())\n",
    "print(pairwise_counts_unselected.shape)\n",
    "# print(pairwise_counts_selected.head())\n",
    "print(error_rates.shape)\n",
    "print(error_rates)"
   ]
  },
  {
   "cell_type": "code",
   "execution_count": 54,
   "id": "744d82c7",
   "metadata": {},
   "outputs": [
    {
     "name": "stdout",
     "output_type": "stream",
     "text": [
      "Single site MIME K values:\n",
      "[1.2169405524398358, 1.3115403413891058, 1.4739792476780478, 0.5891876889392582, 4.100664722933345, 0.9414319282377618, 1.8421947217595, 0.6089130186265094, 3.75320537326218, 2.8531897205257977, 1.5463539926575998, 3.1281679291307887, 1.1513063844993503, 0.20655476368412798, 1.6554693623099876, 0.40567243137695047, 1.452530154217633, 2.660100862375714, 1.2547468425847772, 0.3583567586870395, 0.12438115989292245]\n"
     ]
    }
   ],
   "source": [
    "\n",
    "single_Ks = []\n",
    "# single MIME inference\n",
    "for pos in range(single__counts_selected.shape[1]):\n",
    "    for mut in range(single__counts_selected.shape[0]-1):\n",
    "        error = error_rates[pos]/(number_states-1)\n",
    "        unselected_ratio = (single__counts_unselected[mut+1,pos]/single__counts_unselected[0,pos]) - error\n",
    "        selected_ratio = (single__counts_selected[mut+1,pos]/single__counts_selected[0,pos]) - error\n",
    "        K = unselected_ratio / selected_ratio\n",
    "        single_Ks.append(K)\n",
    "\n",
    "print('Single site MIME K values:')\n",
    "print(single_Ks)\n",
    "        "
   ]
  },
  {
   "cell_type": "code",
   "execution_count": null,
   "id": "a7028706",
   "metadata": {},
   "outputs": [],
   "source": []
  },
  {
   "cell_type": "code",
   "execution_count": 55,
   "id": "36c00bcb",
   "metadata": {},
   "outputs": [
    {
     "name": "stdout",
     "output_type": "stream",
     "text": [
      "[[0.         0.         0.         0.         0.         0.\n",
      "  0.        ]\n",
      " [0.02446767 0.02056433 0.019697   0.02258433 0.02319833 0.02142367\n",
      "  0.02004433]\n",
      " [0.02446767 0.02056433 0.019697   0.02258433 0.02319833 0.02142367\n",
      "  0.02004433]\n",
      " [0.02446767 0.02056433 0.019697   0.02258433 0.02319833 0.02142367\n",
      "  0.02004433]]\n"
     ]
    }
   ],
   "source": [
    "error_rates = np.repeat(error_rates[np.newaxis, :], 4, axis=0)\n",
    "# divide by the number of states -1 \n",
    "error_rates = error_rates/(number_states-1)\n",
    "# set row 0 to 0\n",
    "error_rates[0, :] = 0\n",
    "print(error_rates)"
   ]
  }
 ],
 "metadata": {
  "kernelspec": {
   "display_name": "py39",
   "language": "python",
   "name": "python3"
  },
  "language_info": {
   "codemirror_mode": {
    "name": "ipython",
    "version": 3
   },
   "file_extension": ".py",
   "mimetype": "text/x-python",
   "name": "python",
   "nbconvert_exporter": "python",
   "pygments_lexer": "ipython3",
   "version": "3.9.19"
  }
 },
 "nbformat": 4,
 "nbformat_minor": 5
}
