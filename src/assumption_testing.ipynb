{
 "cells": [
  {
   "cell_type": "code",
   "execution_count": 78,
   "metadata": {},
   "outputs": [],
   "source": [
    "import numpy as np\n",
    "from scipy.stats import gmean"
   ]
  },
  {
   "cell_type": "code",
   "execution_count": 79,
   "metadata": {},
   "outputs": [],
   "source": [
    "def check_independence_assumption(ground_truth : np.ndarray, single_site_frequencies: np.array, sequence_effects : np.ndarray, frequencies : np.ndarray) -> tuple:\n",
    "    \n",
    "    # get number_states and sequence length\n",
    "    number_states, sequence_length = ground_truth.shape\n",
    "\n",
    "    # compute the geometric mean of the sequence effects\n",
    "    gmean_sequence_effects = gmean(sequence_effects, weights=frequencies)\n",
    "\n",
    "    # compute the products of the geometric means of the single site effects (columns are positions, rows are states)\n",
    "    gmean_single_site_effects = np.prod(gmean(ground_truth, axis=1, weights=single_site_frequencies), axis=0)\n",
    "\n",
    "    # check if the geometric mean of the sequence effects is equal to the product of the geometric means of the single site effects\n",
    "    print(\"gmean sequence effects: \", np.round(gmean_sequence_effects, 5))\n",
    "    print(\"product of gmean single site effects: \", np.round(gmean_single_site_effects, 5))\n",
    "    print(\"gmean sequence effects is equal to product of gmean single site effects: \", np.isclose(gmean_sequence_effects, gmean_single_site_effects))\n",
    "\n",
    "    return gmean_sequence_effects, gmean_single_site_effects"
   ]
  },
  {
   "cell_type": "code",
   "execution_count": 80,
   "metadata": {},
   "outputs": [],
   "source": [
    "number_states = 4\n",
    "sequence_length = 5\n",
    "p_effect = 0.1\n",
    "p_state_change = 1/4"
   ]
  },
  {
   "cell_type": "code",
   "execution_count": 81,
   "metadata": {},
   "outputs": [],
   "source": [
    "def generate_ground_truth(number_states : int, sequence_length : int, p_effect : float) -> np.ndarray:\n",
    "    # default state has value 1\n",
    "    default_state = np.ones(sequence_length)\n",
    "    # mutant states are drawn from a log-normal distribution\n",
    "    mutant_states = np.round(np.random.lognormal(mean=0, sigma=1, size=(number_states-1, sequence_length)),2)\n",
    "    # set mutant states to 1 with probability 1 - p_effect\n",
    "    mutant_states = np.where(np.random.rand(*mutant_states.shape) < 1-p_effect, 1, mutant_states)\n",
    "\n",
    "    return np.row_stack((default_state, mutant_states))"
   ]
  },
  {
   "cell_type": "code",
   "execution_count": 82,
   "metadata": {},
   "outputs": [
    {
     "name": "stdout",
     "output_type": "stream",
     "text": [
      "frequencies:  [0.00025228 0.00125629 0.00053628 ... 0.00159991 0.00154486 0.00096974]\n",
      "sequence_effects:  [1.   1.   2.26 ... 1.   2.26 1.  ]\n"
     ]
    }
   ],
   "source": [
    "def generate_sequences(ground_truth : np.ndarray, p_state_change : float, random : bool = False, pruning : bool = False) -> np.ndarray:\n",
    "\n",
    "    # get number_states and sequence length\n",
    "    number_states, sequence_length = ground_truth.shape\n",
    "\n",
    "    # create every possible sequence\n",
    "    sequences = np.array(np.meshgrid(*[np.arange(number_states)]*sequence_length)).T.reshape(-1, sequence_length)\n",
    "\n",
    "    if not random: \n",
    "        # calculate the probability of each sequence as p_state_change**number of state changes * (1-p_state_change)**(sequence_length - number of state changes)\n",
    "        state_changes = np.sum(sequences != np.zeros(sequence_length), axis=1)\n",
    "        frequencies = (p_state_change/(number_states-1))**state_changes * (1-p_state_change)**(sequence_length - state_changes)\n",
    "\n",
    "    if random:\n",
    "        # generate a random frequency for each sequence\n",
    "        frequencies = np.random.rand(sequences.shape[0])\n",
    "        # normalize frequencies\n",
    "        frequencies = frequencies / np.sum(frequencies)\n",
    "\n",
    "    if pruning:\n",
    "        # set frequency < 0.00001 to 0\n",
    "        frequencies = np.where(frequencies < 0.001, 0, frequencies)\n",
    "        #normalize frequencies\n",
    "        frequencies = frequencies / np.sum(frequencies)\n",
    "\n",
    "\n",
    "    # compute effect of each unique sequence\n",
    "    # effect of a sequence is the product of the effects of the states per position\n",
    "    sequence_effects = np.array([np.prod([ground_truth[int(sequences[i,j]), j] for j in range(sequence_length)]) for i in range(sequences.shape[0])])\n",
    "\n",
    "    # print(\"sequences: \", sequences)\n",
    "    print(\"frequencies: \", frequencies)\n",
    "    print(\"sequence_effects: \", sequence_effects)\n",
    "\n",
    "    return sequences, frequencies, sequence_effects"
   ]
  },
  {
   "cell_type": "code",
   "execution_count": 83,
   "metadata": {},
   "outputs": [
    {
     "name": "stdout",
     "output_type": "stream",
     "text": [
      "single_site_frequencies:  [[0.25449625 0.25575672 0.2457438  0.24942524 0.25240111]\n",
      " [0.23714238 0.25023082 0.25125667 0.24662799 0.24226664]\n",
      " [0.24473777 0.25517003 0.251624   0.25257615 0.2443919 ]\n",
      " [0.26362361 0.23884243 0.25137553 0.25137062 0.26094035]]\n"
     ]
    }
   ],
   "source": [
    "def compute_single_site_frequencies(sequences : np.ndarray, frequencies : np.ndarray, number_states : int, sequence_length : int) -> np.ndarray:\n",
    "    # create a matrix of frequencies of each state at each position\n",
    "    single_site_frequencies = np.zeros((number_states, sequence_length))\n",
    "    for i in range(number_states):\n",
    "        for j in range(sequence_length):\n",
    "            # get the row indices of the unique sequences that have state i at position j\n",
    "            row_indices = np.where(sequences[:,j] == i)[0]\n",
    "            # sum the counts of these sequences\n",
    "            single_site_frequencies[i,j] = np.sum(frequencies[row_indices])\n",
    "\n",
    "    return single_site_frequencies"
   ]
  },
  {
   "cell_type": "code",
   "execution_count": 84,
   "metadata": {},
   "outputs": [
    {
     "name": "stdout",
     "output_type": "stream",
     "text": [
      "gmean sequence effects:  1.23128\n",
      "product of gmean single site effects:  1.18134\n",
      "gmean sequence effects is equal to product of gmean single site effects:  False\n"
     ]
    }
   ],
   "source": [
    "def assumption_test(number_states : int, sequence_length : int, p_effect : float, p_state_change : float, random : bool = False, pruning : bool = False) -> None:\n",
    "    # generate ground truth\n",
    "    ground_truth = generate_ground_truth(number_states, sequence_length, p_effect)\n",
    "\n",
    "    # generate sequences\n",
    "    sequences, frequencies, sequence_effects = generate_sequences(ground_truth, p_state_change, random, pruning)\n",
    "\n",
    "    # compute single site frequencies\n",
    "    single_site_frequencies = compute_single_site_frequencies(sequences, frequencies, number_states, sequence_length)\n",
    "\n",
    "    # check independence assumption\n",
    "    gmean_sequence_effects, gmean_single_site_effects = check_independence_assumption(ground_truth, single_site_frequencies, sequence_effects, frequencies)\n",
    "\n",
    "    return gmean_sequence_effects, gmean_single_site_effects"
   ]
  }
 ],
 "metadata": {
  "kernelspec": {
   "display_name": "py39",
   "language": "python",
   "name": "python3"
  },
  "language_info": {
   "codemirror_mode": {
    "name": "ipython",
    "version": 3
   },
   "file_extension": ".py",
   "mimetype": "text/x-python",
   "name": "python",
   "nbconvert_exporter": "python",
   "pygments_lexer": "ipython3",
   "version": "3.9.19"
  }
 },
 "nbformat": 4,
 "nbformat_minor": 2
}
