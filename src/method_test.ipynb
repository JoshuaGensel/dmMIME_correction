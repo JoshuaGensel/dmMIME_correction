{
 "cells": [
  {
   "cell_type": "code",
   "execution_count": 1,
   "metadata": {},
   "outputs": [],
   "source": [
    "import numpy as np\n",
    "from scipy.stats import gmean"
   ]
  },
  {
   "cell_type": "code",
   "execution_count": 6,
   "metadata": {},
   "outputs": [
    {
     "name": "stdout",
     "output_type": "stream",
     "text": [
      "2.2289914337054224\n",
      "0.7711054127039704\n",
      "2.890644258207456\n"
     ]
    }
   ],
   "source": [
    "m = np.array([1.5,1.5,1.5,3,3,3,3])\n",
    "print(gmean(m))\n",
    "wt = np.array([1,1,1,1,1,.5,.5,.5])\n",
    "print(gmean(wt))\n",
    "print(gmean(m)/gmean(wt))"
   ]
  },
  {
   "cell_type": "code",
   "execution_count": 7,
   "metadata": {},
   "outputs": [
    {
     "name": "stdout",
     "output_type": "stream",
     "text": [
      "[[ 1.         -0.21428571 -0.33928571 -0.33928571]\n",
      " [-0.22222222  1.          0.05555556  0.05555556]\n",
      " [-0.33928571  0.05357143  1.         -0.33928571]\n",
      " [-0.33928571  0.05357143 -0.33928571  1.        ]]\n"
     ]
    }
   ],
   "source": [
    "b = np.array([np.log(.799),np.log(.531),np.log(.664), np.log(2.891)])\n",
    "A = np.array([[1,2/7-4/8,2/7-5/8,2/7-5/8],\n",
    "              [2/6-5/9,1,3/6-4/9,3/6-4/9],\n",
    "              [2/7-5/8,3/7-3/8,1,2/7-5/8],\n",
    "              [2/7-5/8,3/7-3/8,2/7-5/8,1]])\n",
    "\n",
    "print(A)"
   ]
  },
  {
   "cell_type": "code",
   "execution_count": 8,
   "metadata": {},
   "outputs": [
    {
     "name": "stdout",
     "output_type": "stream",
     "text": [
      "[0.99990284 0.49952575 1.00053004 3.0009623 ]\n"
     ]
    }
   ],
   "source": [
    "x = np.linalg.solve(A,b)\n",
    "print(np.exp(x))"
   ]
  }
 ],
 "metadata": {
  "kernelspec": {
   "display_name": "py39",
   "language": "python",
   "name": "python3"
  },
  "language_info": {
   "codemirror_mode": {
    "name": "ipython",
    "version": 3
   },
   "file_extension": ".py",
   "mimetype": "text/x-python",
   "name": "python",
   "nbconvert_exporter": "python",
   "pygments_lexer": "ipython3",
   "version": "3.9.18"
  }
 },
 "nbformat": 4,
 "nbformat_minor": 2
}
