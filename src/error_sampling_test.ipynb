{
 "cells": [
  {
   "cell_type": "code",
   "execution_count": 340,
   "metadata": {},
   "outputs": [],
   "source": [
    "import numpy as np\n",
    "import scipy.stats as stats\n",
    "import matplotlib.pyplot as plt"
   ]
  },
  {
   "cell_type": "code",
   "execution_count": 341,
   "metadata": {},
   "outputs": [],
   "source": [
    "sequences = np.array([[0, 0, 0, 0], [0, 0, 1, 0], [1, 1, 0, 0], [1,0,1,1]])"
   ]
  },
  {
   "cell_type": "code",
   "execution_count": 342,
   "metadata": {},
   "outputs": [],
   "source": [
    "counts = np.array([1000, 1200, 750, 300])"
   ]
  },
  {
   "cell_type": "code",
   "execution_count": 343,
   "metadata": {},
   "outputs": [],
   "source": [
    "sequencing_error_rates = np.array([0.01, 0.02, 0.03, 0.05])"
   ]
  },
  {
   "cell_type": "code",
   "execution_count": 344,
   "metadata": {},
   "outputs": [],
   "source": [
    "def add_sequence_error(sequences, counts, sequencing_error_rates):\n",
    "    \n",
    "    full_sequences = np.repeat(sequences, np.round(counts).astype(int), axis=0)\n",
    "    # add errors per position according to the error rates\n",
    "    for i in range(full_sequences.shape[1]):\n",
    "        error = np.random.binomial(1, sequencing_error_rates[i], full_sequences.shape[0])\n",
    "        full_sequences[:, i] = (full_sequences[:, i] + error) % 2\n",
    "    # make sequences unique\n",
    "    sequences_with_errors, counts_with_errors = np.unique(full_sequences, axis=0, return_counts=True)\n",
    "\n",
    "    sequences_with_errors_matched = []\n",
    "    counts_matched = []\n",
    "\n",
    "    #match the error sequences with the original sequences\n",
    "    for seq in range(sequences.shape[0]):\n",
    "        # find the matching sequences\n",
    "        matching = np.where(np.all(sequences[seq] == sequences_with_errors, axis=1))[0]\n",
    "        # if there are matching sequences, add them to the list\n",
    "        if len(matching) > 0:\n",
    "            sequences_with_errors_matched.append(sequences_with_errors[matching][0])\n",
    "            counts_matched.append(counts_with_errors[matching][0])\n",
    "    # convert to numpy arrays\n",
    "    sequences_with_errors_matched = np.array(sequences_with_errors_matched)\n",
    "    counts_matched = np.array(counts_matched)\n",
    "            \n",
    "\n",
    "    return sequences_with_errors, counts_with_errors, sequences_with_errors_matched, counts_matched\n",
    "        "
   ]
  },
  {
   "cell_type": "code",
   "execution_count": 345,
   "metadata": {},
   "outputs": [
    {
     "name": "stdout",
     "output_type": "stream",
     "text": [
      "[[0 0 0 0]\n",
      " [0 0 0 1]\n",
      " [0 0 1 0]\n",
      " [0 0 1 1]\n",
      " [0 1 0 0]\n",
      " [0 1 0 1]\n",
      " [0 1 1 0]\n",
      " [0 1 1 1]\n",
      " [1 0 0 0]\n",
      " [1 0 0 1]\n",
      " [1 0 1 0]\n",
      " [1 0 1 1]\n",
      " [1 1 0 0]\n",
      " [1 1 0 1]\n",
      " [1 1 1 0]\n",
      " [1 1 1 1]]\n",
      "[ 930   48 1090   72   29    3   18    2   16    9   27  267  662   42\n",
      "   27    8]\n",
      "[[0 0 0 0]\n",
      " [0 0 1 0]\n",
      " [1 1 0 0]\n",
      " [1 0 1 1]]\n",
      "[ 930 1090  662  267]\n"
     ]
    }
   ],
   "source": [
    "sequences_with_error, counts_with_error, sequences_with_errors_matched, counts_matched = add_sequence_error(sequences, counts, sequencing_error_rates)\n",
    "print(sequences_with_error)\n",
    "print(counts_with_error)\n",
    "print(sequences_with_errors_matched)\n",
    "print(counts_matched)"
   ]
  },
  {
   "cell_type": "code",
   "execution_count": 346,
   "metadata": {},
   "outputs": [
    {
     "name": "stdout",
     "output_type": "stream",
     "text": [
      "(4,)\n",
      "(4,)\n"
     ]
    }
   ],
   "source": [
    "# check shape of counts and cpunts_matched\n",
    "print(counts_matched.shape)\n",
    "print(counts.shape)"
   ]
  },
  {
   "cell_type": "code",
   "execution_count": 347,
   "metadata": {},
   "outputs": [],
   "source": [
    "# find a initial count distribution that if the error function is applied to it repeatedly, it will consistently match the observed error distribution\n",
    "# the initial count distribution should be a random distribution that is not too far from the observed distribution\n",
    "\n",
    "def find_initial_distribution(sequences, counts, sequencing_error_rates, n_iter=100000):\n",
    "    # create a random initial distribution\n",
    "    initial_counts = np.random.randint(0, 100, counts.shape)\n",
    "    # normalize the initial distribution\n",
    "    initial_counts = np.round(initial_counts / np.sum(initial_counts) * np.sum(counts)).astype(int)\n",
    "    candidates = []\n",
    "    best_kl = np.inf\n",
    "    best_counts = None\n",
    "    kl_list = []\n",
    "    # apply the error function to the initial distribution\n",
    "    for i in range(n_iter):\n",
    "        sequences_with_error, counts_with_error, sequences_with_errors_matched, counts_matched = add_sequence_error(sequences, initial_counts, sequencing_error_rates)\n",
    "        # if the error function matches the observed distribution, return the initial distribution\n",
    "        if np.all(counts_matched == counts):\n",
    "            # add the initial distribution to the candidates\n",
    "            candidates.append(initial_counts)\n",
    "        else:\n",
    "            # compute KL divergence\n",
    "            kl = stats.entropy(counts, counts_matched)\n",
    "            kl_list.append(kl)\n",
    "            # if the KL divergence is smaller than the best KL divergence, update the best KL divergence\n",
    "            if kl < best_kl:\n",
    "                best_kl = kl\n",
    "                best_counts = initial_counts\n",
    "            # if the error function does not match the observed distribution, update the initial distribution\n",
    "            initial_counts = initial_counts + (counts - counts_matched) #+ np.random.randint(-2, 2, counts.shape)\n",
    "    # if no candidate was found, return None\n",
    "    if len(candidates) == 0:\n",
    "        print(\"No exact match found\")\n",
    "        print(f\"Best KL divergence: {best_kl}, for initial distribution: {best_counts}\")\n",
    "        return best_counts, best_kl, kl_list\n",
    "    \n",
    "    print(f\"Found {len(candidates)} candidates\")\n",
    "    # return all most common candidate\n",
    "    candidates = np.array(candidates)\n",
    "    candidates, counts = np.unique(candidates, axis=0, return_counts=True)\n",
    "    ml_candidates = candidates[np.flatnonzero(counts == np.max(counts))]\n",
    "    print(f\"Found {ml_candidates.shape[0]} most common candidates with {np.max(counts)} occurences\")\n",
    "    print(ml_candidates)\n",
    "    \n",
    "    #return median candidate\n",
    "    mean_ml_candidate = np.mean(ml_candidates, axis=0)\n",
    "    print(\"Mean ML candidate\")\n",
    "    print(mean_ml_candidate)\n",
    "\n",
    "    return ml_candidates, mean_ml_candidate, kl_list"
   ]
  },
  {
   "cell_type": "code",
   "execution_count": 348,
   "metadata": {},
   "outputs": [
    {
     "name": "stdout",
     "output_type": "stream",
     "text": [
      "true counts: [1000 1200  750  300]\n",
      "observed counts: [ 930 1090  662  267]\n",
      "No exact match found\n",
      "Best KL divergence: 4.3503481449294135e-08, for initial distribution: [1013 1175  733  289]\n"
     ]
    }
   ],
   "source": [
    "print(\"true counts:\", counts)\n",
    "print(\"observed counts:\", counts_matched)\n",
    "# find the initial distribution\n",
    "ml_counts, median_counts, kl_list = find_initial_distribution(sequences, counts_matched, sequencing_error_rates)\n",
    "# print(ml_counts)\n",
    "# print(median_counts)"
   ]
  },
  {
   "cell_type": "code",
   "execution_count": 349,
   "metadata": {},
   "outputs": [
    {
     "data": {
      "image/png": "[encoded data removed]",
      "text/plain": [
       "<Figure size 640x480 with 1 Axes>"
      ]
     },
     "metadata": {},
     "output_type": "display_data"
    }
   ],
   "source": [
    "# plot the KL divergence over the iterations\n",
    "plt.plot(kl_list)\n",
    "plt.xlabel(\"Iteration\")\n",
    "plt.ylabel(\"KL Divergence\")\n",
    "plt.ylim(0, .005)\n",
    "plt.show()"
   ]
  },
  {
   "cell_type": "code",
   "execution_count": null,
   "metadata": {},
   "outputs": [],
   "source": []
  }
 ],
 "metadata": {
  "kernelspec": {
   "display_name": "py39",
   "language": "python",
   "name": "python3"
  },
  "language_info": {
   "codemirror_mode": {
    "name": "ipython",
    "version": 3
   },
   "file_extension": ".py",
   "mimetype": "text/x-python",
   "name": "python",
   "nbconvert_exporter": "python",
   "pygments_lexer": "ipython3",
   "version": "3.9.19"
  }
 },
 "nbformat": 4,
 "nbformat_minor": 2
}
