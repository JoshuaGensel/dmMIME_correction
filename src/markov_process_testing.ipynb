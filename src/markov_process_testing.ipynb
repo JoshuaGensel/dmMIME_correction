{
 "cells": [
  {
   "cell_type": "code",
   "execution_count": 29,
   "metadata": {},
   "outputs": [],
   "source": [
    "import numpy as np"
   ]
  },
  {
   "cell_type": "code",
   "execution_count": 30,
   "metadata": {},
   "outputs": [],
   "source": [
    "sequence_length = 3\n",
    "number_states = 4\n",
    "mutation_rate = 0.3"
   ]
  },
  {
   "cell_type": "code",
   "execution_count": 31,
   "metadata": {},
   "outputs": [
    {
     "name": "stdout",
     "output_type": "stream",
     "text": [
      "[[0 0 0]\n",
      " [0 1 0]\n",
      " [0 2 0]\n",
      " [0 3 0]\n",
      " [1 0 0]\n",
      " [1 1 0]\n",
      " [1 2 0]\n",
      " [1 3 0]\n",
      " [2 0 0]\n",
      " [2 1 0]\n",
      " [2 2 0]\n",
      " [2 3 0]\n",
      " [3 0 0]\n",
      " [3 1 0]\n",
      " [3 2 0]\n",
      " [3 3 0]\n",
      " [0 0 1]\n",
      " [0 1 1]\n",
      " [0 2 1]\n",
      " [0 3 1]\n",
      " [1 0 1]\n",
      " [1 1 1]\n",
      " [1 2 1]\n",
      " [1 3 1]\n",
      " [2 0 1]\n",
      " [2 1 1]\n",
      " [2 2 1]\n",
      " [2 3 1]\n",
      " [3 0 1]\n",
      " [3 1 1]\n",
      " [3 2 1]\n",
      " [3 3 1]\n",
      " [0 0 2]\n",
      " [0 1 2]\n",
      " [0 2 2]\n",
      " [0 3 2]\n",
      " [1 0 2]\n",
      " [1 1 2]\n",
      " [1 2 2]\n",
      " [1 3 2]\n",
      " [2 0 2]\n",
      " [2 1 2]\n",
      " [2 2 2]\n",
      " [2 3 2]\n",
      " [3 0 2]\n",
      " [3 1 2]\n",
      " [3 2 2]\n",
      " [3 3 2]\n",
      " [0 0 3]\n",
      " [0 1 3]\n",
      " [0 2 3]\n",
      " [0 3 3]\n",
      " [1 0 3]\n",
      " [1 1 3]\n",
      " [1 2 3]\n",
      " [1 3 3]\n",
      " [2 0 3]\n",
      " [2 1 3]\n",
      " [2 2 3]\n",
      " [2 3 3]\n",
      " [3 0 3]\n",
      " [3 1 3]\n",
      " [3 2 3]\n",
      " [3 3 3]]\n"
     ]
    }
   ],
   "source": [
    "# create every possible sequence\n",
    "sequences = np.array(np.meshgrid(*[np.arange(number_states)]*sequence_length)).T.reshape(-1, sequence_length)\n",
    "print(sequences)"
   ]
  },
  {
   "cell_type": "code",
   "execution_count": 32,
   "metadata": {},
   "outputs": [],
   "source": [
    "sequences = np.array([[0, 0, 0], [0,0,2], [1,3,0], [2,1,1]])"
   ]
  },
  {
   "cell_type": "code",
   "execution_count": 33,
   "metadata": {},
   "outputs": [
    {
     "name": "stdout",
     "output_type": "stream",
     "text": [
      "[1. 0. 0. 0.]\n"
     ]
    }
   ],
   "source": [
    "# initial frequencies is vector of zeros and 1 at the first sequence\n",
    "initial_frequencies = np.zeros(sequences.shape[0])\n",
    "initial_frequencies[0] = 1\n",
    "print(initial_frequencies)"
   ]
  },
  {
   "cell_type": "code",
   "execution_count": 34,
   "metadata": {},
   "outputs": [
    {
     "name": "stdout",
     "output_type": "stream",
     "text": [
      "[[0. 1. 2. 3.]\n",
      " [1. 0. 3. 3.]\n",
      " [2. 3. 0. 3.]\n",
      " [3. 3. 3. 0.]]\n"
     ]
    }
   ],
   "source": [
    "# initial transition matrix\n",
    "transition_matrix = np.zeros((sequences.shape[0], sequences.shape[0]))\n",
    "# fill the transition matrix with the number of different elements in the sequences\n",
    "for i in range(sequences.shape[0]):\n",
    "    for j in range(sequences.shape[0]):\n",
    "        transition_matrix[i, j] = np.sum(sequences[i] != sequences[j])\n",
    "\n",
    "print(transition_matrix)"
   ]
  },
  {
   "cell_type": "code",
   "execution_count": 35,
   "metadata": {},
   "outputs": [
    {
     "name": "stdout",
     "output_type": "stream",
     "text": [
      "[[0.343 0.049 0.007 0.001]\n",
      " [0.049 0.343 0.001 0.001]\n",
      " [0.007 0.001 0.343 0.001]\n",
      " [0.001 0.001 0.001 0.343]]\n",
      "[0.4   0.394 0.352 0.346]\n"
     ]
    }
   ],
   "source": [
    "# element-wise apply (mu^c)*(1-mu)^(l-c) to the transition matrix\n",
    "transition_matrix = ((mutation_rate/(number_states-1))**transition_matrix)*(1-mutation_rate)**(sequence_length-transition_matrix)\n",
    "print(transition_matrix)\n",
    "# check sums of rows\n",
    "print(np.sum(transition_matrix, axis=0))"
   ]
  },
  {
   "cell_type": "code",
   "execution_count": 36,
   "metadata": {},
   "outputs": [
    {
     "name": "stdout",
     "output_type": "stream",
     "text": [
      "[[0.8575     0.12436548 0.01988636 0.00289017]\n",
      " [0.1225     0.87055838 0.00284091 0.00289017]\n",
      " [0.0175     0.00253807 0.97443182 0.00289017]\n",
      " [0.0025     0.00253807 0.00284091 0.99132948]]\n",
      "[1. 1. 1. 1.]\n"
     ]
    }
   ],
   "source": [
    "# normalize the rows of the transition matrix\n",
    "transition_matrix = transition_matrix/np.sum(transition_matrix, axis=0)\n",
    "print(transition_matrix)\n",
    "# check sums of rows\n",
    "print(np.sum(transition_matrix, axis=0))"
   ]
  },
  {
   "cell_type": "code",
   "execution_count": 37,
   "metadata": {},
   "outputs": [
    {
     "name": "stdout",
     "output_type": "stream",
     "text": [
      "[0.8575     0.12436548 0.01988636 0.00289017]\n",
      "1.0046420192802705\n"
     ]
    }
   ],
   "source": [
    "frequencies_2 = np.dot(initial_frequencies.T, transition_matrix)\n",
    "print(frequencies_2)\n",
    "# check sum of frequencies\n",
    "print(np.sum(frequencies_2))"
   ]
  },
  {
   "cell_type": "code",
   "execution_count": 39,
   "metadata": {},
   "outputs": [
    {
     "name": "stdout",
     "output_type": "stream",
     "text": [
      "[0.75089626 0.21496862 0.03679198 0.00576035]\n",
      "1.0084172147483697\n"
     ]
    }
   ],
   "source": [
    "frequencies_3 = np.dot(frequencies_2.T, transition_matrix)\n",
    "print(frequencies_3)\n",
    "# check sum of frequencies\n",
    "print(np.sum(frequencies_3))"
   ]
  }
 ],
 "metadata": {
  "kernelspec": {
   "display_name": "py39",
   "language": "python",
   "name": "python3"
  },
  "language_info": {
   "codemirror_mode": {
    "name": "ipython",
    "version": 3
   },
   "file_extension": ".py",
   "mimetype": "text/x-python",
   "name": "python",
   "nbconvert_exporter": "python",
   "pygments_lexer": "ipython3",
   "version": "3.9.19"
  }
 },
 "nbformat": 4,
 "nbformat_minor": 2
}
