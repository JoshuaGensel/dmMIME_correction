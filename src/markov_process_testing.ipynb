{
 "cells": [
  {
   "cell_type": "code",
   "execution_count": 431,
   "metadata": {},
   "outputs": [],
   "source": [
    "import numpy as np"
   ]
  },
  {
   "cell_type": "code",
   "execution_count": 432,
   "metadata": {},
   "outputs": [],
   "source": [
    "sequence_length = 3\n",
    "number_states = 2\n",
    "mutation_rate = 0.2"
   ]
  },
  {
   "cell_type": "code",
   "execution_count": 433,
   "metadata": {},
   "outputs": [
    {
     "name": "stdout",
     "output_type": "stream",
     "text": [
      "[[0 0 0]\n",
      " [0 1 0]\n",
      " [1 0 0]\n",
      " [1 1 0]\n",
      " [0 0 1]\n",
      " [0 1 1]\n",
      " [1 0 1]\n",
      " [1 1 1]]\n"
     ]
    }
   ],
   "source": [
    "# create every possible sequence\n",
    "sequences = np.array(np.meshgrid(*[np.arange(number_states)]*sequence_length)).T.reshape(-1, sequence_length)\n",
    "print(sequences)"
   ]
  },
  {
   "cell_type": "code",
   "execution_count": 434,
   "metadata": {},
   "outputs": [],
   "source": [
    "sequences = np.array([[0, 0, 0], [0,0,1], [1,0,0], [1,1,0]])"
   ]
  },
  {
   "cell_type": "code",
   "execution_count": 435,
   "metadata": {},
   "outputs": [
    {
     "name": "stdout",
     "output_type": "stream",
     "text": [
      "[1. 0. 0. 0.]\n"
     ]
    }
   ],
   "source": [
    "# initial frequencies is vector of zeros and 1 at the first sequence\n",
    "initial_frequencies = np.zeros(sequences.shape[0])\n",
    "initial_frequencies[0] = 1\n",
    "print(initial_frequencies)"
   ]
  },
  {
   "cell_type": "code",
   "execution_count": 436,
   "metadata": {},
   "outputs": [
    {
     "name": "stdout",
     "output_type": "stream",
     "text": [
      "[[0. 1. 1. 2.]\n",
      " [1. 0. 2. 3.]\n",
      " [1. 2. 0. 1.]\n",
      " [2. 3. 1. 0.]]\n"
     ]
    }
   ],
   "source": [
    "# initial transition matrix\n",
    "transition_matrix = np.zeros((sequences.shape[0], sequences.shape[0]))\n",
    "# fill the transition matrix with the number of different elements in the sequences\n",
    "for i in range(sequences.shape[0]):\n",
    "    for j in range(sequences.shape[0]):\n",
    "        transition_matrix[i, j] = np.sum(sequences[i] != sequences[j])\n",
    "\n",
    "print(transition_matrix)"
   ]
  },
  {
   "cell_type": "code",
   "execution_count": 437,
   "metadata": {},
   "outputs": [
    {
     "name": "stdout",
     "output_type": "stream",
     "text": [
      "[[0.512 0.128 0.128 0.032]\n",
      " [0.128 0.512 0.032 0.008]\n",
      " [0.128 0.032 0.512 0.128]\n",
      " [0.032 0.008 0.128 0.512]]\n",
      "[0.8  0.68 0.8  0.68]\n"
     ]
    }
   ],
   "source": [
    "# element-wise apply (mu^c)*(1-mu)^(l-c) to the transition matrix\n",
    "transition_matrix = ((mutation_rate/(number_states-1))**transition_matrix)*(1-mutation_rate)**(sequence_length-transition_matrix)\n",
    "print(transition_matrix)\n",
    "# check sums of rows\n",
    "print(np.sum(transition_matrix, axis=1))"
   ]
  },
  {
   "cell_type": "code",
   "execution_count": 438,
   "metadata": {},
   "outputs": [
    {
     "name": "stdout",
     "output_type": "stream",
     "text": [
      "[[0.512 0.128 0.128 0.032]\n",
      " [0.128 0.512 0.032 0.008]\n",
      " [0.128 0.032 0.512 0.128]\n",
      " [0.032 0.008 0.128 0.512]]\n",
      "[0.8  0.68 0.8  0.68]\n"
     ]
    }
   ],
   "source": [
    "# normalize the rows of the transition matrix\n",
    "# transition_matrix = transition_matrix/np.sum(transition_matrix, axis=0)\n",
    "print(transition_matrix)\n",
    "# check sums of rows\n",
    "print(np.sum(transition_matrix, axis=1))"
   ]
  },
  {
   "cell_type": "code",
   "execution_count": 439,
   "metadata": {},
   "outputs": [
    {
     "name": "stdout",
     "output_type": "stream",
     "text": [
      "[0.512 0.128 0.128 0.032]\n",
      "0.8000000000000002\n"
     ]
    }
   ],
   "source": [
    "frequencies_2 = np.dot(initial_frequencies.T, transition_matrix)\n",
    "print(frequencies_2)\n",
    "# check sum of frequencies\n",
    "print(np.sum(frequencies_2))"
   ]
  },
  {
   "cell_type": "code",
   "execution_count": 440,
   "metadata": {},
   "outputs": [
    {
     "name": "stdout",
     "output_type": "stream",
     "text": [
      "[0.295936 0.135424 0.139264 0.050176]\n",
      "0.6208000000000002\n"
     ]
    }
   ],
   "source": [
    "frequencies_3 = np.dot(frequencies_2.T, transition_matrix)\n",
    "print(frequencies_3)\n",
    "# check sum of frequencies\n",
    "print(np.sum(frequencies_3))"
   ]
  },
  {
   "cell_type": "code",
   "execution_count": 441,
   "metadata": {},
   "outputs": [
    {
     "name": "stdout",
     "output_type": "stream",
     "text": [
      "[[0.3362897  0.97635517 0.26447004]\n",
      " [0.6637103  0.02364483 0.73552996]]\n"
     ]
    }
   ],
   "source": [
    "# initialize frequency matrix of shape (number_states, sequence_length)\n",
    "frequencies = np.zeros((number_states, sequence_length))\n",
    "# randomize frequencies over states that sum to 1\n",
    "frequencies = np.random.rand(number_states, sequence_length)\n",
    "frequencies = frequencies/np.sum(frequencies, axis=0)\n",
    "print(frequencies)"
   ]
  },
  {
   "cell_type": "code",
   "execution_count": 442,
   "metadata": {},
   "outputs": [],
   "source": [
    "frequencies = np.array([[.3,.3,.3], [.7,.7,.7]])"
   ]
  },
  {
   "cell_type": "code",
   "execution_count": 443,
   "metadata": {},
   "outputs": [
    {
     "name": "stdout",
     "output_type": "stream",
     "text": [
      "[[0.24 0.24 0.24]\n",
      " [0.14 0.14 0.14]]\n",
      "[0.38 0.38 0.38]\n",
      "0.054872000000000004\n",
      "[[0.24 0.24 0.06]\n",
      " [0.14 0.14 0.56]]\n",
      "[0.38 0.38 0.62]\n",
      "0.08952799999999998\n",
      "[[0.06 0.24 0.24]\n",
      " [0.56 0.14 0.14]]\n",
      "[0.62 0.38 0.38]\n",
      "0.08952799999999998\n",
      "[[0.06 0.06 0.24]\n",
      " [0.56 0.56 0.14]]\n",
      "[0.62 0.62 0.38]\n",
      "0.14607199999999995\n",
      "[0.054872000000000004, 0.08952799999999998, 0.08952799999999998, 0.14607199999999995]\n"
     ]
    }
   ],
   "source": [
    "transistion_probabilities = []\n",
    "for sequence in range(sequences.shape[0]):\n",
    "    probability_matrix = np.zeros((number_states, sequence_length))\n",
    "    for i in range(sequence_length):\n",
    "        for m in range(number_states):\n",
    "            # if state is the same as the sequence state\n",
    "            if sequences[sequence, i] == m:\n",
    "                probability_matrix[m, i] = frequencies[m, i]*(1-mutation_rate)\n",
    "            else:\n",
    "                probability_matrix[m, i] = frequencies[m, i]*(mutation_rate/(number_states-1))\n",
    "    print(probability_matrix)\n",
    "    print(np.sum(probability_matrix, axis=0))\n",
    "    print(np.prod(np.sum(probability_matrix, axis=0)))\n",
    "    transistion_probabilities.append(np.prod(np.sum(probability_matrix, axis=0)))\n",
    "\n",
    "print(transistion_probabilities)"
   ]
  },
  {
   "cell_type": "code",
   "execution_count": 444,
   "metadata": {},
   "outputs": [
    {
     "name": "stdout",
     "output_type": "stream",
     "text": [
      "[[0.512 0.128 0.128 0.032]\n",
      " [0.128 0.512 0.032 0.008]\n",
      " [0.128 0.032 0.512 0.128]\n",
      " [0.032 0.008 0.128 0.512]\n",
      " [0.055 0.09  0.09  0.146]]\n"
     ]
    }
   ],
   "source": [
    "# add the probabilities as new row to the transition matrix\n",
    "transition_matrix = np.vstack((transition_matrix, transistion_probabilities))\n",
    "print(np.round(transition_matrix,3))"
   ]
  },
  {
   "cell_type": "code",
   "execution_count": 445,
   "metadata": {},
   "outputs": [
    {
     "name": "stdout",
     "output_type": "stream",
     "text": [
      "[[0.512 0.128 0.128 0.032 0.2  ]\n",
      " [0.128 0.512 0.032 0.008 0.32 ]\n",
      " [0.128 0.032 0.512 0.128 0.2  ]\n",
      " [0.032 0.008 0.128 0.512 0.32 ]\n",
      " [0.055 0.09  0.09  0.146 0.62 ]]\n",
      "[1. 1. 1. 1. 1.]\n"
     ]
    }
   ],
   "source": [
    "# add new column to the transition matrix so that the sum of the rows is 1\n",
    "transition_matrix = np.hstack((transition_matrix, 1-np.sum(transition_matrix, axis=1).reshape(-1,1)))\n",
    "print(np.round(transition_matrix,3))\n",
    "\n",
    "# check sums of rows\n",
    "print(np.sum(transition_matrix, axis=1))"
   ]
  },
  {
   "cell_type": "code",
   "execution_count": 447,
   "metadata": {},
   "outputs": [
    {
     "data": {
      "text/plain": [
       "array([0.3069104, 0.1533296, 0.1571696, 0.0793904, 0.3032   ])"
      ]
     },
     "execution_count": 447,
     "metadata": {},
     "output_type": "execute_result"
    }
   ],
   "source": [
    "np.dot(np.dot(np.array([1,0,0,0,0]), transition_matrix), transition_matrix)"
   ]
  }
 ],
 "metadata": {
  "kernelspec": {
   "display_name": "py39",
   "language": "python",
   "name": "python3"
  },
  "language_info": {
   "codemirror_mode": {
    "name": "ipython",
    "version": 3
   },
   "file_extension": ".py",
   "mimetype": "text/x-python",
   "name": "python",
   "nbconvert_exporter": "python",
   "pygments_lexer": "ipython3",
   "version": "3.9.19"
  }
 },
 "nbformat": 4,
 "nbformat_minor": 2
}
