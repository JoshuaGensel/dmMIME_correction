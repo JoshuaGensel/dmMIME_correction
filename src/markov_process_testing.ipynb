{
 "cells": [
  {
   "cell_type": "code",
   "execution_count": 45,
   "metadata": {},
   "outputs": [],
   "source": [
    "import numpy as np"
   ]
  },
  {
   "cell_type": "code",
   "execution_count": 46,
   "metadata": {},
   "outputs": [],
   "source": [
    "sequence_length = 2\n",
    "number_states = 2\n",
    "mutation_rate = 0.3"
   ]
  },
  {
   "cell_type": "code",
   "execution_count": 47,
   "metadata": {},
   "outputs": [
    {
     "name": "stdout",
     "output_type": "stream",
     "text": [
      "[[0 0]\n",
      " [0 1]\n",
      " [1 0]\n",
      " [1 1]]\n"
     ]
    }
   ],
   "source": [
    "# create every possible sequence\n",
    "sequences = np.array(np.meshgrid(*[np.arange(number_states)]*sequence_length)).T.reshape(-1, sequence_length)\n",
    "print(sequences)"
   ]
  },
  {
   "cell_type": "code",
   "execution_count": 48,
   "metadata": {},
   "outputs": [
    {
     "name": "stdout",
     "output_type": "stream",
     "text": [
      "[1. 0. 0. 0.]\n"
     ]
    }
   ],
   "source": [
    "# initial frequencies is vector of zeros and 1 at the first sequence\n",
    "initial_frequencies = np.zeros(sequences.shape[0])\n",
    "initial_frequencies[0] = 1\n",
    "print(initial_frequencies)"
   ]
  },
  {
   "cell_type": "code",
   "execution_count": 49,
   "metadata": {},
   "outputs": [
    {
     "name": "stdout",
     "output_type": "stream",
     "text": [
      "[[0. 1. 1. 2.]\n",
      " [1. 0. 2. 1.]\n",
      " [1. 2. 0. 1.]\n",
      " [2. 1. 1. 0.]]\n"
     ]
    }
   ],
   "source": [
    "# initial transition matrix\n",
    "transition_matrix = np.zeros((sequences.shape[0], sequences.shape[0]))\n",
    "# fill the transition matrix with the number of different elements in the sequences\n",
    "for i in range(sequences.shape[0]):\n",
    "    for j in range(sequences.shape[0]):\n",
    "        transition_matrix[i, j] = np.sum(sequences[i] != sequences[j])\n",
    "\n",
    "print(transition_matrix)"
   ]
  },
  {
   "cell_type": "code",
   "execution_count": 50,
   "metadata": {},
   "outputs": [
    {
     "name": "stdout",
     "output_type": "stream",
     "text": [
      "[[0.49 0.21 0.21 0.09]\n",
      " [0.21 0.49 0.09 0.21]\n",
      " [0.21 0.09 0.49 0.21]\n",
      " [0.09 0.21 0.21 0.49]]\n",
      "[1. 1. 1. 1.]\n"
     ]
    }
   ],
   "source": [
    "# element-wise apply (mu^c)*(1-mu)^(l-c) to the transition matrix\n",
    "transition_matrix = ((mutation_rate/(number_states-1))**transition_matrix)*(1-mutation_rate)**(sequence_length-transition_matrix)\n",
    "print(transition_matrix)\n",
    "# check sums of rows\n",
    "print(np.sum(transition_matrix, axis=0))"
   ]
  },
  {
   "cell_type": "code",
   "execution_count": 51,
   "metadata": {},
   "outputs": [
    {
     "name": "stdout",
     "output_type": "stream",
     "text": [
      "[0.49 0.21 0.21 0.09]\n",
      "0.9999999999999999\n"
     ]
    }
   ],
   "source": [
    "frequencies_2 = np.dot(initial_frequencies.T, transition_matrix)\n",
    "print(frequencies_2)\n",
    "# check sum of frequencies\n",
    "print(np.sum(frequencies_2))"
   ]
  },
  {
   "cell_type": "code",
   "execution_count": 52,
   "metadata": {},
   "outputs": [
    {
     "name": "stdout",
     "output_type": "stream",
     "text": [
      "[0.3364 0.2436 0.2436 0.1764]\n",
      "0.9999999999999998\n"
     ]
    }
   ],
   "source": [
    "frequencies_3 = np.dot(frequencies_2.T, transition_matrix)\n",
    "print(frequencies_3)\n",
    "# check sum of frequencies\n",
    "print(np.sum(frequencies_3))"
   ]
  }
 ],
 "metadata": {
  "kernelspec": {
   "display_name": "py39",
   "language": "python",
   "name": "python3"
  },
  "language_info": {
   "codemirror_mode": {
    "name": "ipython",
    "version": 3
   },
   "file_extension": ".py",
   "mimetype": "text/x-python",
   "name": "python",
   "nbconvert_exporter": "python",
   "pygments_lexer": "ipython3",
   "version": "3.9.19"
  }
 },
 "nbformat": 4,
 "nbformat_minor": 2
}
